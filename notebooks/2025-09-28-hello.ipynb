{
 "cells": [
  {
   "cell_type": "code",
   "execution_count": 1,
   "metadata": {
    "execution": {
     "iopub.execute_input": "2025-09-29T12:29:21.038103Z",
     "iopub.status.busy": "2025-09-29T12:29:21.037808Z",
     "iopub.status.idle": "2025-09-29T12:29:21.044009Z",
     "shell.execute_reply": "2025-09-29T12:29:21.043235Z"
    }
   },
   "outputs": [
    {
     "name": "stdout",
     "output_type": "stream",
     "text": [
      "Hello, FantasyFootball!\n"
     ]
    }
   ],
   "source": [
    "print('Hello, FantasyFootball!')"
   ]
  }
 ],
 "metadata": {
  "kernelspec": {
   "display_name": "Python 3",
   "language": "python",
   "name": "python3"
  },
  "language_info": {
   "codemirror_mode": {
    "name": "ipython",
    "version": 3
   },
   "file_extension": ".py",
   "mimetype": "text/x-python",
   "name": "python",
   "nbconvert_exporter": "python",
   "pygments_lexer": "ipython3",
   "version": "3.13.7"
  }
 },
 "nbformat": 4,
 "nbformat_minor": 2
}
